{
 "cells": [
  {
   "cell_type": "code",
   "execution_count": 1,
   "id": "ecd08dd3-75f6-4293-8ee4-3ece6f0e0507",
   "metadata": {},
   "outputs": [],
   "source": [
    "import pydantic as pd2\n",
    "import pydantic as pd\n",
    "import pydantic.v1 as pd1\n",
    "import sys"
   ]
  },
  {
   "cell_type": "markdown",
   "id": "d9a7419c-8c9e-4352-97d4-ca756fd879a9",
   "metadata": {},
   "source": [
    "In order to understand the performance cost of using a docs schema, let's write some tests:"
   ]
  },
  {
   "cell_type": "code",
   "execution_count": 2,
   "id": "aec54c32-758f-48d2-8ab0-53515c21384f",
   "metadata": {},
   "outputs": [
    {
     "data": {
      "text/plain": [
       "MyBaseClass(a='', b='')"
      ]
     },
     "execution_count": 2,
     "metadata": {},
     "output_type": "execute_result"
    }
   ],
   "source": [
    "class MyBaseClass(pd.BaseModel):\n",
    "    a: str = \"\"\n",
    "    \"\"\"\n",
    "    Example Description\n",
    "    \"\"\"\n",
    "    \n",
    "    b: str = pd.Field(default=\"\", description=\"Example Description\")\n",
    "\n",
    "our_class = MyBaseClass()\n",
    "our_class"
   ]
  },
  {
   "cell_type": "code",
   "execution_count": 3,
   "id": "3291f36f-042a-4e7e-88e0-59a99e3fe574",
   "metadata": {},
   "outputs": [
    {
     "name": "stdout",
     "output_type": "stream",
     "text": [
      "a_class_attribute memory: 49\n",
      "b_class_attribute memory: 49\n"
     ]
    }
   ],
   "source": [
    "# Calculate the memory cost\n",
    "a_class_attribute_memory_cost = sys.getsizeof(our_class.a)\n",
    "b_class_attribute_memory_cost = sys.getsizeof(our_class.b)\n",
    "print(f\"a_class_attribute memory: {a_class_attribute_memory_cost}\")\n",
    "print(f\"b_class_attribute memory: {b_class_attribute_memory_cost}\")"
   ]
  },
  {
   "cell_type": "markdown",
   "id": "f44d3dd1-e4f0-4e65-9ab4-3bb36d859cd9",
   "metadata": {},
   "source": [
    "So there's a few options of what we can do here. We could create a higher-dimensional `pd.Field` that can be compiled into a better documentation representation which is more complete."
   ]
  },
  {
   "cell_type": "code",
   "execution_count": 4,
   "id": "aef7a6ed-057b-4eef-917c-32df69e667b2",
   "metadata": {},
   "outputs": [],
   "source": [
    "example_default = \"\"\n",
    "example_basic_field = pd.Field(default=\"\")"
   ]
  },
  {
   "cell_type": "markdown",
   "id": "6be81465-6744-467e-b139-cebc822925df",
   "metadata": {},
   "source": [
    "Let's analyse the memory aspect of this data representation:"
   ]
  },
  {
   "cell_type": "code",
   "execution_count": 5,
   "id": "ad1cb4cf-6718-42e0-9855-12793132a1a2",
   "metadata": {},
   "outputs": [
    {
     "name": "stdout",
     "output_type": "stream",
     "text": [
      "a_class_attribute memory: 49\n",
      "b_class_attribute memory: 216\n"
     ]
    }
   ],
   "source": [
    "# Calculate the memory cost\n",
    "default_string_memory_cost = sys.getsizeof(example_default)\n",
    "default_field_memory_cost = sys.getsizeof(example_basic_field)\n",
    "print(f\"a_class_attribute memory: {default_string_memory_cost}\")\n",
    "print(f\"b_class_attribute memory: {default_field_memory_cost}\")"
   ]
  },
  {
   "cell_type": "markdown",
   "id": "f3722d38-9675-44a1-a946-3b8c50773765",
   "metadata": {},
   "source": [
    "So we can clearly tell there's a difference here. It's interesting because we can tell that even though the actual declaration on its own does have 4x higher memory cost, at the instantiation default level it is equivalent.\n",
    "\n",
    "So if anything we can look inside annotations of each class and compile the documentation from there."
   ]
  },
  {
   "cell_type": "code",
   "execution_count": 6,
   "id": "7d817220-2bef-43c3-ac7a-ae15d99fe5e6",
   "metadata": {},
   "outputs": [
    {
     "data": {
      "text/plain": [
       "{'annotation': 'type[Any] | None',\n",
       " 'default': 'Any',\n",
       " 'default_factory': 'typing.Callable[[], Any] | None',\n",
       " 'alias': 'str | None',\n",
       " 'alias_priority': 'int | None',\n",
       " 'validation_alias': 'str | AliasPath | AliasChoices | None',\n",
       " 'serialization_alias': 'str | None',\n",
       " 'title': 'str | None',\n",
       " 'field_title_generator': 'typing.Callable[[str, FieldInfo], str] | None',\n",
       " 'description': 'str | None',\n",
       " 'examples': 'list[Any] | None',\n",
       " 'exclude': 'bool | None',\n",
       " 'discriminator': 'str | types.Discriminator | None',\n",
       " 'deprecated': 'Deprecated | str | bool | None',\n",
       " 'json_schema_extra': 'JsonDict | typing.Callable[[JsonDict], None] | None',\n",
       " 'frozen': 'bool | None',\n",
       " 'validate_default': 'bool | None',\n",
       " 'repr': 'bool',\n",
       " 'init': 'bool | None',\n",
       " 'init_var': 'bool | None',\n",
       " 'kw_only': 'bool | None',\n",
       " 'metadata': 'list[Any]',\n",
       " 'metadata_lookup': 'ClassVar[dict[str, typing.Callable[[Any], Any] | None]]'}"
      ]
     },
     "execution_count": 6,
     "metadata": {},
     "output_type": "execute_result"
    }
   ],
   "source": [
    "example_basic_field.__annotations__"
   ]
  },
  {
   "cell_type": "markdown",
   "id": "4932b79c-6fc9-4d97-822f-1e2e36485c6b",
   "metadata": {},
   "source": [
    "The problem with this is that it only contains the types of the annotations, it does not contain the actual meaning. We can verify if this is the same for the attribute declaration"
   ]
  },
  {
   "cell_type": "code",
   "execution_count": 7,
   "id": "323ba61d-a050-470e-a8d0-554e89fc6568",
   "metadata": {},
   "outputs": [
    {
     "data": {
      "text/plain": [
       "{'a': str, 'b': str}"
      ]
     },
     "execution_count": 7,
     "metadata": {},
     "output_type": "execute_result"
    }
   ],
   "source": [
    "# our_class.a.__annotations__ # Doesn't work\n",
    "# our_class.b.__annotations__ # Doesn't work\n",
    "our_class.__annotations__"
   ]
  },
  {
   "cell_type": "markdown",
   "id": "4015acef-e336-4786-b707-aa3a83f5f1a0",
   "metadata": {},
   "source": [
    "So it is concievable we can overwrite the annotations of a class attribute. However, it is interesting that the field description is not directly accessible from the class instantiation.\n",
    "\n",
    "So we can improve the documentation based on assigning this type of elements. We could extract the class definition from there in principle. However, clearly we have an issue which is where does the actual documentation data get contained.\n",
    "\n",
    "We can extract the json schema defaults and variables from the `model_json_schema` attribute of the pydantic class."
   ]
  },
  {
   "cell_type": "code",
   "execution_count": 9,
   "id": "37bfd396-ae18-4041-905c-54ffcd1d08b7",
   "metadata": {},
   "outputs": [
    {
     "data": {
      "text/plain": [
       "{'properties': {'a': {'default': '', 'title': 'A', 'type': 'string'},\n",
       "  'b': {'default': '',\n",
       "   'description': 'Example Description',\n",
       "   'title': 'B',\n",
       "   'type': 'string'}},\n",
       " 'title': 'MyBaseClass',\n",
       " 'type': 'object'}"
      ]
     },
     "execution_count": 9,
     "metadata": {},
     "output_type": "execute_result"
    }
   ],
   "source": [
    "from pydantic.fields import FieldInfo\n",
    "from pydantic import BaseModel\n",
    "\n",
    "def check_json_schema_extra(field: FieldInfo) -> bool:\n",
    "    \"\"\"Check if the FieldInfo contains a 'json_schema_extra' parameter.\"\"\"\n",
    "    return hasattr(field, 'json_schema_extra') and field.json_schema_extra is not None\n",
    "\n",
    "\n",
    "\n",
    "def determine_pydantic_version_from_base_model(model: BaseModel):\n",
    "    \"\"\"Determine if a BaseModel is from Pydantic v1 or v2.\"\"\"\n",
    "    if hasattr(model, 'model_fields'):\n",
    "        return 2\n",
    "    elif hasattr(model, '__fields__'):\n",
    "        return 1\n",
    "    else:\n",
    "        raise ValueError(\"Unknown Pydantic version or incompatible BaseModel class.\")\n",
    "\n",
    "\n",
    "def get_field_infos(model: BaseModel):\n",
    "    \"\"\"Get all FieldInfo instances from a Pydantic model, compatible with v1 and v2.\"\"\"\n",
    "    version = determine_pydantic_version_from_base_model(model)\n",
    "\n",
    "    field_infos = []\n",
    "\n",
    "    # Handle Pydantic v2\n",
    "    if version == 2:\n",
    "        for field_name, field in model.model_fields.items():\n",
    "            field_infos.append(field)\n",
    "\n",
    "    # Handle Pydantic v1\n",
    "    elif version == 1:\n",
    "        for field_name, field in model.__fields__.items():\n",
    "            field_infos.append(field)\n",
    "\n",
    "    return field_infos\n",
    "\n",
    "our_class.model_json_schema()"
   ]
  },
  {
   "cell_type": "markdown",
   "id": "eeab0d0e-09a3-40fe-9a3b-036e8ffa8694",
   "metadata": {},
   "source": [
    "So when we go and define the parameters we want on our parameter table:"
   ]
  },
  {
   "cell_type": "markdown",
   "id": "40517e5d-abba-4c6e-bb45-84f2a4aa31d9",
   "metadata": {},
   "source": [
    "```\n",
    "Units\n",
    "Description\n",
    "Type\n",
    "Equation\n",
    "```"
   ]
  },
  {
   "cell_type": "markdown",
   "id": "d5fac3fe-87a4-4047-b94f-48da10909fb1",
   "metadata": {},
   "source": [
    "We need to then evaluate how to define this in a standardized way, and where this gets extracted from.\n",
    "\n",
    "So we've been analyzing the `__annotations__` and the provided json schema, it can be seen that a `pydantic.Field` contains hte example description and relevant information in the way we want. So it makes sense to create a higher dimensional version of the `pydantic.Field` and use this to annotate. We can then extract the information from there and compile each field in the particular format enabled by the extension. So we provide a full cycle of the implementation strategy."
   ]
  },
  {
   "cell_type": "code",
   "execution_count": null,
   "id": "a7c5de53-46e1-45aa-b4ec-43d03bb9b582",
   "metadata": {},
   "outputs": [],
   "source": [
    "# help(pd.fields.Field)\n",
    "pd.fields.Field(extra={\n",
    "    \"hello\": 1\n",
    "})"
   ]
  },
  {
   "cell_type": "code",
   "execution_count": null,
   "id": "a7089d29-26cb-4c80-b32b-b25609d59481",
   "metadata": {},
   "outputs": [],
   "source": [
    "test_extra_fieldinfo = pd.fields.FieldInfo(test=1)\n",
    "dir(test_extra_fieldinfo)"
   ]
  },
  {
   "cell_type": "code",
   "execution_count": null,
   "id": "61fbb607-0b7b-43e6-932b-362d8b694ee7",
   "metadata": {
    "scrolled": true
   },
   "outputs": [],
   "source": [
    "help(pd.fields.FieldInfo)"
   ]
  },
  {
   "cell_type": "code",
   "execution_count": null,
   "id": "eecd8da6-27e8-488d-b758-757142aead52",
   "metadata": {},
   "outputs": [],
   "source": []
  },
  {
   "cell_type": "code",
   "execution_count": 18,
   "id": "b4a9de07-0f79-4fc3-b3e2-a33187e66142",
   "metadata": {},
   "outputs": [],
   "source": [
    "class PhysicalParameterV1(pd1.BaseModel):\n",
    "    units: str = \"\"\n",
    "\n",
    "class PhysicalParameterV2(pd2.BaseModel):\n",
    "    units: str = \"\""
   ]
  },
  {
   "cell_type": "code",
   "execution_count": 15,
   "id": "5f6541f0-7ee6-47a2-97d0-a7a6574d9e0e",
   "metadata": {},
   "outputs": [
    {
     "ename": "NameError",
     "evalue": "name 'PhysicalParameter' is not defined",
     "output_type": "error",
     "traceback": [
      "\u001b[0;31m---------------------------------------------------------------------------\u001b[0m",
      "\u001b[0;31mNameError\u001b[0m                                 Traceback (most recent call last)",
      "Cell \u001b[0;32mIn[15], line 2\u001b[0m\n\u001b[1;32m      1\u001b[0m \u001b[38;5;66;03m# help(pd.fields.Field)\u001b[39;00m\n\u001b[0;32m----> 2\u001b[0m pd\u001b[38;5;241m.\u001b[39mfields\u001b[38;5;241m.\u001b[39mField(extra\u001b[38;5;241m=\u001b[39m\u001b[43mPhysicalParameter\u001b[49m())\n",
      "\u001b[0;31mNameError\u001b[0m: name 'PhysicalParameter' is not defined"
     ]
    }
   ],
   "source": [
    "# help(pd.fields.Field)\n",
    "pd.fields.Field(extra=PhysicalParameter())"
   ]
  },
  {
   "cell_type": "code",
   "execution_count": null,
   "id": "146154e0-4fbd-4401-a6ca-58656989ab46",
   "metadata": {},
   "outputs": [],
   "source": [
    "\n"
   ]
  },
  {
   "cell_type": "code",
   "execution_count": 16,
   "id": "46d6cbba-f04a-424e-afa6-8db0fe85fc4c",
   "metadata": {},
   "outputs": [
    {
     "data": {
      "text/plain": [
       "[ModelField(name='units', type=str, required=False, default='')]"
      ]
     },
     "execution_count": 16,
     "metadata": {},
     "output_type": "execute_result"
    }
   ],
   "source": [
    "get_field_infos(PhysicalParameterV1)"
   ]
  },
  {
   "cell_type": "code",
   "execution_count": 17,
   "id": "d47f14ff-3aaf-4654-9f2d-969c6ab27162",
   "metadata": {},
   "outputs": [
    {
     "data": {
      "text/plain": [
       "[FieldInfo(annotation=str, required=False, default='')]"
      ]
     },
     "execution_count": 17,
     "metadata": {},
     "output_type": "execute_result"
    }
   ],
   "source": [
    "get_field_infos(PhysicalParameterV2)"
   ]
  },
  {
   "cell_type": "code",
   "execution_count": 23,
   "id": "3f60ed00-d8b6-4d27-93bb-bbb7b72f2392",
   "metadata": {},
   "outputs": [],
   "source": [
    "class PhysicalFieldInfo(pd.fields.FieldInfo):\n",
    "    a: PhysicalParameterV1"
   ]
  },
  {
   "cell_type": "code",
   "execution_count": 12,
   "id": "1f9660a7-358b-4b79-9362-a6f58b5b1bd8",
   "metadata": {},
   "outputs": [
    {
     "data": {
      "text/plain": [
       "PhysicalFieldInfo(annotation=NoneType, required=True)"
      ]
     },
     "execution_count": 12,
     "metadata": {},
     "output_type": "execute_result"
    }
   ],
   "source": [
    "PhysicalFieldInfo()"
   ]
  },
  {
   "cell_type": "code",
   "execution_count": 25,
   "id": "bd8c92de-8168-490f-a368-8b2c12e2ebef",
   "metadata": {},
   "outputs": [
    {
     "data": {
      "text/plain": [
       "PhysicalFieldInfo(annotation=NoneType, required=True)"
      ]
     },
     "execution_count": 25,
     "metadata": {},
     "output_type": "execute_result"
    }
   ],
   "source": [
    "PhysicalFieldInfo()"
   ]
  },
  {
   "cell_type": "code",
   "execution_count": null,
   "id": "357d5275-e6ad-48bc-8727-fcc6e09a3e55",
   "metadata": {},
   "outputs": [],
   "source": []
  }
 ],
 "metadata": {
  "kernelspec": {
   "display_name": "Python 3 (ipykernel)",
   "language": "python",
   "name": "python3"
  },
  "language_info": {
   "codemirror_mode": {
    "name": "ipython",
    "version": 3
   },
   "file_extension": ".py",
   "mimetype": "text/x-python",
   "name": "python",
   "nbconvert_exporter": "python",
   "pygments_lexer": "ipython3",
   "version": "3.11.9"
  }
 },
 "nbformat": 4,
 "nbformat_minor": 5
}
